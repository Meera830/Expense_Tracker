{
  "cells": [
    {
      "cell_type": "code",
      "execution_count": 1,
      "metadata": {
        "id": "63Lq_QFqWSmU"
      },
      "outputs": [],
      "source": [
        "import pandas as pd\n",
        "import os"
      ]
    },
    {
      "cell_type": "code",
      "execution_count": 2,
      "metadata": {
        "id": "g2KPfdEMWWwo"
      },
      "outputs": [],
      "source": [
        "def add_expense(date, category, amount, description):\n",
        "    expense = {\n",
        "        'Date': date,\n",
        "        'Category': category,\n",
        "        'Amount': amount,\n",
        "        'Description': description\n",
        "    }\n",
        "    return expense"
      ]
    },
    {
      "cell_type": "code",
      "execution_count": 3,
      "metadata": {
        "id": "H65xOqohW4vN"
      },
      "outputs": [],
      "source": [
        "def save_expenses(expenses, f='Expense Tracker.csv'):\n",
        "    df = pd.DataFrame(expenses)\n",
        "    df.to_csv(f, index=False)\n",
        "    print(f'Expenses saved to {f}')"
      ]
    },
    {
      "cell_type": "code",
      "execution_count": 4,
      "metadata": {
        "id": "HLCyZhDDXCem"
      },
      "outputs": [],
      "source": [
        "def load_expenses(f='Expense Tracker.csv'):\n",
        "    if os.path.exists(f):\n",
        "        return pd.read_csv(f).to_dict('records')\n",
        "    else:\n",
        "        return []"
      ]
    },
    {
      "cell_type": "code",
      "execution_count": 5,
      "metadata": {
        "id": "NGlaBY9hXOS9"
      },
      "outputs": [],
      "source": [
        "def total_expenses(expenses):\n",
        "    total = sum(expense['Amount'] for expense in expenses)\n",
        "    print(f'Total Expenses: Rs.{total:.2f}')"
      ]
    },
    {
      "cell_type": "code",
      "execution_count": 6,
      "metadata": {
        "id": "t7H9ZV5TXXha"
      },
      "outputs": [],
      "source": [
        "def monthly_summary(expenses):\n",
        "    df = pd.DataFrame(expenses)\n",
        "\n",
        "    if df.empty:\n",
        "        print(\"No expenses recorded.\")\n",
        "        return\n",
        "    try:\n",
        "        df['Date'] = pd.to_datetime(df['Date'], errors='coerce')\n",
        "        if df['Date'].isnull().all():\n",
        "            print(\"All date entries are invalid.\")\n",
        "            return\n",
        "        df.dropna(subset=['Date'], inplace=True)\n",
        "        monthly = df.groupby(df['Date'].dt.to_period('M')).sum()['Amount']\n",
        "        print(\"Monthly Summary:\")\n",
        "        print(monthly)\n",
        "    except Exception as e:\n",
        "        print(f\"An error occurred while processing the dates: {e}\")"
      ]
    },
    {
      "cell_type": "code",
      "execution_count": 7,
      "metadata": {
        "id": "NadbfpuqXgAl"
      },
      "outputs": [],
      "source": [
        "def category_summary(expenses):\n",
        "    df = pd.DataFrame(expenses)\n",
        "    category = df.groupby('Category').sum()['Amount']\n",
        "    print(\"Category-wise Summary:\")\n",
        "    print(category)"
      ]
    },
    {
      "cell_type": "code",
      "execution_count": 8,
      "metadata": {
        "id": "cGxLlgmxXnRw"
      },
      "outputs": [],
      "source": [
        "def main():\n",
        "    expenses = load_expenses()\n",
        "\n",
        "    while True:\n",
        "        print(\"\\nExpense Tracker\")\n",
        "        print(\"1. Add Expense\")\n",
        "        print(\"2. View Total Expenses\")\n",
        "        print(\"3. View Monthly Summary\")\n",
        "        print(\"4. View Category-wise Summary\")\n",
        "        print(\"5. Exit\")\n",
        "\n",
        "        choice = input(\"Enter your choice: \")\n",
        "\n",
        "        if choice == '1':\n",
        "            try:\n",
        "                date = input(\"Enter the date : \")\n",
        "                category = input(\"Enter the category: \")\n",
        "                amount = float(input(\"Enter the amount: \"))\n",
        "                description = input(\"Enter the description: \")\n",
        "\n",
        "                expense = add_expense(date, category, amount, description)\n",
        "                expenses.append(expense)\n",
        "            except ValueError:\n",
        "                print(\"Invalid input. Please enter the correct data.\")\n",
        "\n",
        "        elif choice == '2':\n",
        "            total_expenses(expenses)\n",
        "\n",
        "        elif choice == '3':\n",
        "            monthly_summary(expenses)\n",
        "\n",
        "        elif choice == '4':\n",
        "            category_summary(expenses)\n",
        "\n",
        "        elif choice == '5':\n",
        "            save_expenses(expenses)\n",
        "            break\n",
        "\n",
        "        else:\n",
        "            print(\"Invalid choice. Please try again.\")"
      ]
    },
    {
      "cell_type": "code",
      "execution_count": 9,
      "metadata": {
        "colab": {
          "base_uri": "https://localhost:8080/"
        },
        "id": "vS654jWOXsFq",
        "outputId": "7c0723bd-decf-428c-ac2f-57613a5ee6a8"
      },
      "outputs": [
        {
          "output_type": "stream",
          "name": "stdout",
          "text": [
            "\n",
            "Expense Tracker\n",
            "1. Add Expense\n",
            "2. View Total Expenses\n",
            "3. View Monthly Summary\n",
            "4. View Category-wise Summary\n",
            "5. Exit\n",
            "Enter your choice: 1\n",
            "Enter the date : 04-07-2024\n",
            "Enter the category: groceries\n",
            "Enter the amount: 1500\n",
            "Enter the description: vegies\n",
            "\n",
            "Expense Tracker\n",
            "1. Add Expense\n",
            "2. View Total Expenses\n",
            "3. View Monthly Summary\n",
            "4. View Category-wise Summary\n",
            "5. Exit\n",
            "Enter your choice: 2\n",
            "Total Expenses: Rs.1500.00\n",
            "\n",
            "Expense Tracker\n",
            "1. Add Expense\n",
            "2. View Total Expenses\n",
            "3. View Monthly Summary\n",
            "4. View Category-wise Summary\n",
            "5. Exit\n",
            "Enter your choice: 3\n",
            "An error occurred while processing the dates: datetime64 type does not support sum operations\n",
            "\n",
            "Expense Tracker\n",
            "1. Add Expense\n",
            "2. View Total Expenses\n",
            "3. View Monthly Summary\n",
            "4. View Category-wise Summary\n",
            "5. Exit\n",
            "Enter your choice: 4\n",
            "Category-wise Summary:\n",
            "Category\n",
            "groceries    1500.0\n",
            "Name: Amount, dtype: float64\n",
            "\n",
            "Expense Tracker\n",
            "1. Add Expense\n",
            "2. View Total Expenses\n",
            "3. View Monthly Summary\n",
            "4. View Category-wise Summary\n",
            "5. Exit\n",
            "Enter your choice: 5\n",
            "Expenses saved to Expense Tracker.csv\n"
          ]
        }
      ],
      "source": [
        "\n",
        "if __name__ == '__main__':\n",
        "    main()"
      ]
    }
  ],
  "metadata": {
    "colab": {
      "provenance": []
    },
    "kernelspec": {
      "display_name": "Python 3",
      "name": "python3"
    },
    "language_info": {
      "name": "python"
    }
  },
  "nbformat": 4,
  "nbformat_minor": 0
}